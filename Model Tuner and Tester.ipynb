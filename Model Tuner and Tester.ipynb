{
 "cells": [
  {
   "cell_type": "markdown",
   "metadata": {},
   "source": [
    "# Model Tester"
   ]
  },
  {
   "cell_type": "markdown",
   "metadata": {},
   "source": [
    "## 1. Get the data"
   ]
  },
  {
   "cell_type": "code",
   "execution_count": 1,
   "metadata": {},
   "outputs": [],
   "source": [
    "import pandas as pd\n",
    "import numpy as np\n",
    "\n",
    "# './IEMOCAP_features_2.csv'\n",
    "features_IME = pd.read_csv()\n",
    "\n",
    "# './RAVDASS_features_2.csv'\n",
    "feature_RAVDASS = pd.read_csv()\n",
    "\n",
    "\n",
    "features_IME = features_IME.drop(columns=[\"File_Name\", \"Session\", \"val\", \"act\", \"dom\", \"wav_file_name\"])\n",
    "feature_RAVDASS = feature_RAVDASS.drop(columns=[\"File_Name\", \"Modality\", \"Vocal_Channel \", \"Emotional_Intensity\", \"Statement\", \"Repetition\", \"Actor\", \"Power\"])\n",
    "\n",
    "data = pd.concat([features_IME, feature_RAVDASS])\n",
    "\n",
    "df = data\n",
    "\n",
    "lab = data.drop(columns = ['Signal_Mean', 'Signal_StdDeviation', 'Rms_Vec_Mean',\n",
    "       'Rms_Vec_StdDeviation', 'Autocorrelation_Max',\n",
    "       'Autocorrelation_StdDeviation', 'Silence', 'Harmonic_Mean']) #\"Unnamed: 0\"\n",
    "\n",
    "df = df.drop(columns=['Emotion'])"
   ]
  },
  {
   "cell_type": "markdown",
   "metadata": {},
   "source": [
    "## 2. Split the data into training and testing sets\n",
    "If the data was using raw emotion values, e.g 'neu' instead of 0 then one would need to use a label encoder to encode each unique label as an integer between 0 and n_classes-1. Label encoding can be done using the Sci-Kit Learn LabelEncoder class https://scikit-learn.org/stable/modules/generated/sklearn.preprocessing.LabelEncoder.html."
   ]
  },
  {
   "cell_type": "code",
   "execution_count": 11,
   "metadata": {},
   "outputs": [],
   "source": [
    "from sklearn.model_selection import train_test_split\n",
    "from sklearn.preprocessing import LabelEncoder\n",
    "\n",
    "# le = LabelEncoder()\n",
    "# y = le.fit_transform(lab)\n",
    "y = lab\n",
    "x = df \n",
    "\n",
    "X_train, X_test, y_train, y_test = train_test_split(x, y, random_state=42, stratify=y)"
   ]
  },
  {
   "cell_type": "markdown",
   "metadata": {},
   "source": [
    "# 3. Import the necessary models"
   ]
  },
  {
   "cell_type": "code",
   "execution_count": 61,
   "metadata": {},
   "outputs": [],
   "source": [
    "from sklearn.ensemble import RandomForestClassifier, AdaBoostClassifier\n",
    "from sklearn.neural_network import MLPClassifier\n",
    "from sklearn.neighbors import KNeighborsClassifier\n",
    "from sklearn.svm import SVC\n",
    "from xgboost import XGBClassifier"
   ]
  },
  {
   "cell_type": "markdown",
   "metadata": {},
   "source": [
    "# 4. Setup the model parameters\n",
    "Each model must be tuned by a different set of parameters, therefore each parameter object must be setup in an array to be easily and automatically accessed."
   ]
  },
  {
   "cell_type": "code",
   "execution_count": 53,
   "metadata": {},
   "outputs": [],
   "source": [
    "parameters = [\n",
    "#     KNN\n",
    "    {\n",
    "        'n_neighbors'       : [3, 5, 10, 15, 20],\n",
    "        'weights'           : ['uniform', 'distance'],\n",
    "        'metric'            : ['euclidean', 'manhattan'],\n",
    "    },\n",
    "#     MLP\n",
    "    {\n",
    "        'hidden_layer_sizes'      : [50, 100, 150],\n",
    "        'activation'              : ['identity', 'logistic', 'tanh', 'relu'],\n",
    "        'solver'                  : ['lbfgs', 'sgd', 'adam'],\n",
    "        'learning_rate'           : ['constant', 'invscaling', 'adaptive'],\n",
    "        'alpha'                   : [10**x for x in list(range(-5, 1, 1))]\n",
    "    },\n",
    "#     RF\n",
    "    {\n",
    "        'n_estimators'      : [50, 100, 200, 300, 400, 500],\n",
    "        'max_depth'         : list(range(25, 125, 25)),\n",
    "        'random_state'      : [42],\n",
    "    },\n",
    "#     AdaBoost\n",
    "    {\n",
    "        'base_estimator' : [RandomForestClassifier(), SVC(), XGBClassifier()],\n",
    "        'n_estimators'   : [50, 100, 200, 300, 400, 500],\n",
    "        'random_state'   : [42]\n",
    "    },\n",
    "#     SVM\n",
    "    {\n",
    "        'C'      : [2**x for x in list(range(-2, 2, 1))],\n",
    "        'kernel' : ['rbf', 'linear', 'poly', 'sigmoid', 'precomputed'],\n",
    "        'gamma'  : [2**x for x in list(range(-15, 3, 3))]\n",
    "    },\n",
    "#     XGBClassifier\n",
    "    {\n",
    "        'booster'          : ['gbtree', 'gblinear','dart'],\n",
    "        'eta'              : [10**x for x in list(range(-5, -1, 1))],\n",
    "        'max_depth'        : list(range(3, 11, 1)),\n",
    "        'gamma'            : [x/10.0 for x in range(0,5)],\n",
    "        'colsample_bytree' : [x/10.0 for x in range(5,11)],\n",
    "        'nthread'          : [-1]\n",
    "    }\n",
    "]"
   ]
  },
  {
   "cell_type": "markdown",
   "metadata": {},
   "source": [
    "# 5. Setup the models"
   ]
  },
  {
   "cell_type": "code",
   "execution_count": 57,
   "metadata": {},
   "outputs": [],
   "source": [
    "estimators = [\n",
    "    KNeighborsClassifier(), \n",
    "    MLPClassifier(), \n",
    "    RandomForestClassifier(), \n",
    "    AdaBoostClassifier(), \n",
    "    SVC(), \n",
    "    XGBClassifier()\n",
    "]"
   ]
  },
  {
   "cell_type": "markdown",
   "metadata": {},
   "source": [
    "# 6. Tune the models"
   ]
  },
  {
   "cell_type": "code",
   "execution_count": 67,
   "metadata": {},
   "outputs": [
    {
     "name": "stdout",
     "output_type": "stream",
     "text": [
      "0\n"
     ]
    },
    {
     "name": "stderr",
     "output_type": "stream",
     "text": [
      "/usr/local/lib/python3.7/site-packages/sklearn/model_selection/_search.py:740: DataConversionWarning: A column-vector y was passed when a 1d array was expected. Please change the shape of y to (n_samples, ), for example using ravel().\n",
      "  self.best_estimator_.fit(X, y, **fit_params)\n"
     ]
    },
    {
     "name": "stdout",
     "output_type": "stream",
     "text": [
      "1\n"
     ]
    },
    {
     "name": "stderr",
     "output_type": "stream",
     "text": [
      "/usr/local/lib/python3.7/site-packages/sklearn/model_selection/_search.py:841: DeprecationWarning: The default of the `iid` parameter will change from True to False in version 0.22 and will be removed in 0.24. This will change numeric results when test-set sizes are unequal.\n",
      "  DeprecationWarning)\n",
      "/usr/local/lib/python3.7/site-packages/sklearn/neural_network/multilayer_perceptron.py:916: DataConversionWarning: A column-vector y was passed when a 1d array was expected. Please change the shape of y to (n_samples, ), for example using ravel().\n",
      "  y = column_or_1d(y, warn=True)\n"
     ]
    },
    {
     "ename": "TypeError",
     "evalue": "'str' object is not callable",
     "output_type": "error",
     "traceback": [
      "\u001b[0;31m---------------------------------------------------------------------------\u001b[0m",
      "\u001b[0;31mTypeError\u001b[0m                                 Traceback (most recent call last)",
      "\u001b[0;32m<ipython-input-67-d08da588b0f7>\u001b[0m in \u001b[0;36m<module>\u001b[0;34m\u001b[0m\n\u001b[1;32m     22\u001b[0m     \u001b[0mpred\u001b[0m \u001b[0;34m=\u001b[0m \u001b[0mmodel\u001b[0m\u001b[0;34m.\u001b[0m\u001b[0mpredict\u001b[0m\u001b[0;34m(\u001b[0m\u001b[0mnp\u001b[0m\u001b[0;34m.\u001b[0m\u001b[0marray\u001b[0m\u001b[0;34m(\u001b[0m\u001b[0mX_test\u001b[0m\u001b[0;34m)\u001b[0m\u001b[0;34m)\u001b[0m\u001b[0;34m\u001b[0m\u001b[0;34m\u001b[0m\u001b[0m\n\u001b[1;32m     23\u001b[0m \u001b[0;34m\u001b[0m\u001b[0m\n\u001b[0;32m---> 24\u001b[0;31m     \u001b[0mclassification_report\u001b[0m \u001b[0;34m=\u001b[0m \u001b[0mclassification_report\u001b[0m\u001b[0;34m(\u001b[0m\u001b[0mnp\u001b[0m\u001b[0;34m.\u001b[0m\u001b[0marray\u001b[0m\u001b[0;34m(\u001b[0m\u001b[0my_test\u001b[0m\u001b[0;34m)\u001b[0m\u001b[0;34m,\u001b[0m \u001b[0mnp\u001b[0m\u001b[0;34m.\u001b[0m\u001b[0marray\u001b[0m\u001b[0;34m(\u001b[0m\u001b[0mpred\u001b[0m\u001b[0;34m)\u001b[0m\u001b[0;34m)\u001b[0m\u001b[0;34m\u001b[0m\u001b[0;34m\u001b[0m\u001b[0m\n\u001b[0m\u001b[1;32m     25\u001b[0m \u001b[0;34m\u001b[0m\u001b[0m\n\u001b[1;32m     26\u001b[0m     \u001b[0mreports\u001b[0m\u001b[0;34m.\u001b[0m\u001b[0mappend\u001b[0m\u001b[0;34m(\u001b[0m\u001b[0mclassification_report\u001b[0m\u001b[0;34m)\u001b[0m\u001b[0;34m\u001b[0m\u001b[0;34m\u001b[0m\u001b[0m\n",
      "\u001b[0;31mTypeError\u001b[0m: 'str' object is not callable"
     ]
    }
   ],
   "source": [
    "from sklearn.model_selection import GridSearchCV\n",
    "\n",
    "from sklearn.metrics import accuracy_score\n",
    "from sklearn.metrics import balanced_accuracy_score\n",
    "from sklearn.metrics import roc_curve\n",
    "from sklearn.metrics import mean_absolute_error\n",
    "from sklearn.metrics import confusion_matrix\n",
    "from sklearn.metrics import classification_report\n",
    "\n",
    "reports = []\n",
    "\n",
    "\n",
    "for i in range(0, len(estimators)):\n",
    "    params = parameters[i]\n",
    "    estimator = estimators[i]\n",
    "    \n",
    "    print(i)\n",
    "    \n",
    "    model = GridSearchCV(estimator, params, cv=10, n_jobs=-1, refit=True)\n",
    "    model.fit(X_train, y_train)\n",
    "    \n",
    "    pred = model.predict(np.array(X_test))\n",
    "    \n",
    "    classificationReport = classification_report(np.array(y_test), np.array(pred))\n",
    "    \n",
    "    reports.append(classification_report)"
   ]
  },
  {
   "cell_type": "code",
   "execution_count": null,
   "metadata": {},
   "outputs": [],
   "source": []
  }
 ],
 "metadata": {
  "kernelspec": {
   "display_name": "Python 3",
   "language": "python",
   "name": "python3"
  },
  "language_info": {
   "codemirror_mode": {
    "name": "ipython",
    "version": 3
   },
   "file_extension": ".py",
   "mimetype": "text/x-python",
   "name": "python",
   "nbconvert_exporter": "python",
   "pygments_lexer": "ipython3",
   "version": "3.7.4"
  }
 },
 "nbformat": 4,
 "nbformat_minor": 2
}
